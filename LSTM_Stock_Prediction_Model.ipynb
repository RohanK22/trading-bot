{
  "nbformat": 4,
  "nbformat_minor": 0,
  "metadata": {
    "colab": {
      "name": "LSTM Stock Prediction Model.ipynb",
      "provenance": [],
      "collapsed_sections": [],
      "authorship_tag": "ABX9TyMgXqkgqUi2JMlmlqrapwod",
      "include_colab_link": true
    },
    "kernelspec": {
      "name": "python3",
      "display_name": "Python 3"
    },
    "language_info": {
      "name": "python"
    },
    "accelerator": "GPU"
  },
  "cells": [
    {
      "cell_type": "markdown",
      "metadata": {
        "id": "view-in-github",
        "colab_type": "text"
      },
      "source": [
        "<a href=\"https://colab.research.google.com/github/RohanK22/trading-bot/blob/main/LSTM_Stock_Prediction_Model.ipynb\" target=\"_parent\"><img src=\"https://colab.research.google.com/assets/colab-badge.svg\" alt=\"Open In Colab\"/></a>"
      ]
    },
    {
      "cell_type": "code",
      "metadata": {
        "id": "gXTXmLQdQOUT",
        "colab": {
          "base_uri": "https://localhost:8080/"
        },
        "outputId": "4902971e-360b-49f9-af32-907b32463f85"
      },
      "source": [
        "# Ref: https://www.kdnuggets.com/2018/11/keras-long-short-term-memory-lstm-model-predict-stock-prices.html\n",
        "!pip install yfinance\n",
        "\n",
        "import numpy as np\n",
        "import matplotlib.pyplot as plt\n",
        "import pandas as pd\n",
        "import yfinance as yf"
      ],
      "execution_count": null,
      "outputs": [
        {
          "output_type": "stream",
          "text": [
            "Requirement already satisfied: yfinance in /usr/local/lib/python3.7/dist-packages (0.1.63)\n",
            "Requirement already satisfied: requests>=2.20 in /usr/local/lib/python3.7/dist-packages (from yfinance) (2.23.0)\n",
            "Requirement already satisfied: multitasking>=0.0.7 in /usr/local/lib/python3.7/dist-packages (from yfinance) (0.0.9)\n",
            "Requirement already satisfied: pandas>=0.24 in /usr/local/lib/python3.7/dist-packages (from yfinance) (1.1.5)\n",
            "Requirement already satisfied: lxml>=4.5.1 in /usr/local/lib/python3.7/dist-packages (from yfinance) (4.6.3)\n",
            "Requirement already satisfied: numpy>=1.15 in /usr/local/lib/python3.7/dist-packages (from yfinance) (1.19.5)\n",
            "Requirement already satisfied: certifi>=2017.4.17 in /usr/local/lib/python3.7/dist-packages (from requests>=2.20->yfinance) (2021.5.30)\n",
            "Requirement already satisfied: urllib3!=1.25.0,!=1.25.1,<1.26,>=1.21.1 in /usr/local/lib/python3.7/dist-packages (from requests>=2.20->yfinance) (1.24.3)\n",
            "Requirement already satisfied: chardet<4,>=3.0.2 in /usr/local/lib/python3.7/dist-packages (from requests>=2.20->yfinance) (3.0.4)\n",
            "Requirement already satisfied: idna<3,>=2.5 in /usr/local/lib/python3.7/dist-packages (from requests>=2.20->yfinance) (2.10)\n",
            "Requirement already satisfied: python-dateutil>=2.7.3 in /usr/local/lib/python3.7/dist-packages (from pandas>=0.24->yfinance) (2.8.1)\n",
            "Requirement already satisfied: pytz>=2017.2 in /usr/local/lib/python3.7/dist-packages (from pandas>=0.24->yfinance) (2018.9)\n",
            "Requirement already satisfied: six>=1.5 in /usr/local/lib/python3.7/dist-packages (from python-dateutil>=2.7.3->pandas>=0.24->yfinance) (1.15.0)\n"
          ],
          "name": "stdout"
        }
      ]
    },
    {
      "cell_type": "code",
      "metadata": {
        "colab": {
          "base_uri": "https://localhost:8080/",
          "height": 467
        },
        "id": "2i1Mhje2QilH",
        "outputId": "40ce6bc0-5778-467b-e7bf-6d2a1f179a08"
      },
      "source": [
        "STOCK = 'GOOGL'\n",
        "PERIOD = '5d'\n",
        "INTERVAL = '1m'\n",
        "EPOCHS = 100\n",
        "lookback_days = 60\n",
        "\n",
        "# Loading the data\n",
        "dataset_train = yf.download(tickers=STOCK, period=PERIOD, interval=INTERVAL)\n",
        "training_set = dataset_train.iloc[:, 1:2].values\n",
        "dataset_train\n",
        "# print(training_set.shape)"
      ],
      "execution_count": null,
      "outputs": [
        {
          "output_type": "stream",
          "text": [
            "\r[*********************100%***********************]  1 of 1 completed\n"
          ],
          "name": "stdout"
        },
        {
          "output_type": "execute_result",
          "data": {
            "text/html": [
              "<div>\n",
              "<style scoped>\n",
              "    .dataframe tbody tr th:only-of-type {\n",
              "        vertical-align: middle;\n",
              "    }\n",
              "\n",
              "    .dataframe tbody tr th {\n",
              "        vertical-align: top;\n",
              "    }\n",
              "\n",
              "    .dataframe thead th {\n",
              "        text-align: right;\n",
              "    }\n",
              "</style>\n",
              "<table border=\"1\" class=\"dataframe\">\n",
              "  <thead>\n",
              "    <tr style=\"text-align: right;\">\n",
              "      <th></th>\n",
              "      <th>Open</th>\n",
              "      <th>High</th>\n",
              "      <th>Low</th>\n",
              "      <th>Close</th>\n",
              "      <th>Adj Close</th>\n",
              "      <th>Volume</th>\n",
              "    </tr>\n",
              "    <tr>\n",
              "      <th>Datetime</th>\n",
              "      <th></th>\n",
              "      <th></th>\n",
              "      <th></th>\n",
              "      <th></th>\n",
              "      <th></th>\n",
              "      <th></th>\n",
              "    </tr>\n",
              "  </thead>\n",
              "  <tbody>\n",
              "    <tr>\n",
              "      <th>2021-07-12 09:30:00-04:00</th>\n",
              "      <td>2523.560059</td>\n",
              "      <td>2523.560059</td>\n",
              "      <td>2516.050049</td>\n",
              "      <td>2518.037598</td>\n",
              "      <td>2518.037598</td>\n",
              "      <td>37768</td>\n",
              "    </tr>\n",
              "    <tr>\n",
              "      <th>2021-07-12 09:31:00-04:00</th>\n",
              "      <td>2520.544922</td>\n",
              "      <td>2520.544922</td>\n",
              "      <td>2516.909912</td>\n",
              "      <td>2518.125000</td>\n",
              "      <td>2518.125000</td>\n",
              "      <td>4233</td>\n",
              "    </tr>\n",
              "    <tr>\n",
              "      <th>2021-07-12 09:32:00-04:00</th>\n",
              "      <td>2518.270996</td>\n",
              "      <td>2519.659912</td>\n",
              "      <td>2517.395020</td>\n",
              "      <td>2517.395020</td>\n",
              "      <td>2517.395020</td>\n",
              "      <td>3088</td>\n",
              "    </tr>\n",
              "    <tr>\n",
              "      <th>2021-07-12 09:33:00-04:00</th>\n",
              "      <td>2516.310059</td>\n",
              "      <td>2518.300049</td>\n",
              "      <td>2516.129883</td>\n",
              "      <td>2517.064941</td>\n",
              "      <td>2517.064941</td>\n",
              "      <td>3615</td>\n",
              "    </tr>\n",
              "    <tr>\n",
              "      <th>2021-07-12 09:34:00-04:00</th>\n",
              "      <td>2517.669922</td>\n",
              "      <td>2518.399902</td>\n",
              "      <td>2516.110107</td>\n",
              "      <td>2517.614990</td>\n",
              "      <td>2517.614990</td>\n",
              "      <td>4035</td>\n",
              "    </tr>\n",
              "    <tr>\n",
              "      <th>...</th>\n",
              "      <td>...</td>\n",
              "      <td>...</td>\n",
              "      <td>...</td>\n",
              "      <td>...</td>\n",
              "      <td>...</td>\n",
              "      <td>...</td>\n",
              "    </tr>\n",
              "    <tr>\n",
              "      <th>2021-07-16 15:55:00-04:00</th>\n",
              "      <td>2541.050049</td>\n",
              "      <td>2542.050049</td>\n",
              "      <td>2540.429932</td>\n",
              "      <td>2541.479980</td>\n",
              "      <td>2541.479980</td>\n",
              "      <td>8087</td>\n",
              "    </tr>\n",
              "    <tr>\n",
              "      <th>2021-07-16 15:56:00-04:00</th>\n",
              "      <td>2541.215088</td>\n",
              "      <td>2541.215088</td>\n",
              "      <td>2539.520020</td>\n",
              "      <td>2539.520020</td>\n",
              "      <td>2539.520020</td>\n",
              "      <td>6381</td>\n",
              "    </tr>\n",
              "    <tr>\n",
              "      <th>2021-07-16 15:57:00-04:00</th>\n",
              "      <td>2539.250000</td>\n",
              "      <td>2539.870117</td>\n",
              "      <td>2538.840088</td>\n",
              "      <td>2539.320068</td>\n",
              "      <td>2539.320068</td>\n",
              "      <td>10496</td>\n",
              "    </tr>\n",
              "    <tr>\n",
              "      <th>2021-07-16 15:58:00-04:00</th>\n",
              "      <td>2539.540039</td>\n",
              "      <td>2540.239990</td>\n",
              "      <td>2539.330078</td>\n",
              "      <td>2539.600098</td>\n",
              "      <td>2539.600098</td>\n",
              "      <td>12819</td>\n",
              "    </tr>\n",
              "    <tr>\n",
              "      <th>2021-07-16 15:59:00-04:00</th>\n",
              "      <td>2540.199951</td>\n",
              "      <td>2540.500000</td>\n",
              "      <td>2538.070068</td>\n",
              "      <td>2538.070068</td>\n",
              "      <td>2538.070068</td>\n",
              "      <td>17869</td>\n",
              "    </tr>\n",
              "  </tbody>\n",
              "</table>\n",
              "<p>1766 rows × 6 columns</p>\n",
              "</div>"
            ],
            "text/plain": [
              "                                  Open         High  ...    Adj Close  Volume\n",
              "Datetime                                             ...                     \n",
              "2021-07-12 09:30:00-04:00  2523.560059  2523.560059  ...  2518.037598   37768\n",
              "2021-07-12 09:31:00-04:00  2520.544922  2520.544922  ...  2518.125000    4233\n",
              "2021-07-12 09:32:00-04:00  2518.270996  2519.659912  ...  2517.395020    3088\n",
              "2021-07-12 09:33:00-04:00  2516.310059  2518.300049  ...  2517.064941    3615\n",
              "2021-07-12 09:34:00-04:00  2517.669922  2518.399902  ...  2517.614990    4035\n",
              "...                                ...          ...  ...          ...     ...\n",
              "2021-07-16 15:55:00-04:00  2541.050049  2542.050049  ...  2541.479980    8087\n",
              "2021-07-16 15:56:00-04:00  2541.215088  2541.215088  ...  2539.520020    6381\n",
              "2021-07-16 15:57:00-04:00  2539.250000  2539.870117  ...  2539.320068   10496\n",
              "2021-07-16 15:58:00-04:00  2539.540039  2540.239990  ...  2539.600098   12819\n",
              "2021-07-16 15:59:00-04:00  2540.199951  2540.500000  ...  2538.070068   17869\n",
              "\n",
              "[1766 rows x 6 columns]"
            ]
          },
          "metadata": {
            "tags": []
          },
          "execution_count": 34
        }
      ]
    },
    {
      "cell_type": "code",
      "metadata": {
        "id": "JQNlbWifQ5cp"
      },
      "source": [
        "# Using feature scaling for better model performace\n",
        "from sklearn.preprocessing import MinMaxScaler\n",
        "sc = MinMaxScaler(feature_range = (0, 1))\n",
        "training_set_scaled = sc.fit_transform(training_set)"
      ],
      "execution_count": null,
      "outputs": []
    },
    {
      "cell_type": "code",
      "metadata": {
        "colab": {
          "base_uri": "https://localhost:8080/"
        },
        "id": "ZbkmqJ8yRNXr",
        "outputId": "dc9e5c73-ec0f-4540-8c65-152c7c951de9"
      },
      "source": [
        "# Preparing Training data\n",
        "X_train = []\n",
        "y_train = []\n",
        "for i in range(lookback_days, len(training_set_scaled)):\n",
        "    X_train.append(training_set_scaled[i - lookback_days : i , 0])\n",
        "    y_train.append(training_set_scaled[i, 0])\n",
        "X_train, y_train = np.array(X_train), np.array(y_train)\n",
        "\n",
        "X_train = np.reshape(X_train, (X_train.shape[0], X_train.shape[1], 1))\n",
        "print(X_train.shape)"
      ],
      "execution_count": null,
      "outputs": [
        {
          "output_type": "stream",
          "text": [
            "(1706, 60, 1)\n"
          ],
          "name": "stdout"
        }
      ]
    },
    {
      "cell_type": "code",
      "metadata": {
        "id": "9uRqFmzgRQse"
      },
      "source": [
        "from keras.models import Sequential\n",
        "from keras.layers import Dense\n",
        "from keras.layers import LSTM\n",
        "from keras.layers import Dropout"
      ],
      "execution_count": null,
      "outputs": []
    },
    {
      "cell_type": "code",
      "metadata": {
        "colab": {
          "base_uri": "https://localhost:8080/"
        },
        "id": "MlXm3oSwSTGo",
        "outputId": "5729fd38-c328-4b3e-8cb7-f5792cb6a52e"
      },
      "source": [
        "# Build model and train \n",
        "regressor = Sequential()\n",
        "\n",
        "regressor.add(LSTM(units = 50, return_sequences = True, input_shape = (X_train.shape[1], 1)))\n",
        "regressor.add(Dropout(0.2))\n",
        "\n",
        "regressor.add(LSTM(units = 50, return_sequences = True))\n",
        "regressor.add(Dropout(0.2))\n",
        "\n",
        "regressor.add(LSTM(units = 50, return_sequences = True))\n",
        "regressor.add(Dropout(0.2))\n",
        "\n",
        "regressor.add(LSTM(units = 50))\n",
        "regressor.add(Dropout(0.2))\n",
        "\n",
        "regressor.add(Dense(units = 1))\n",
        "\n",
        "regressor.compile(optimizer = 'adam', loss = 'mean_squared_error')\n",
        "\n",
        "regressor.fit(X_train, y_train, epochs = EPOCHS, batch_size = 32)"
      ],
      "execution_count": null,
      "outputs": [
        {
          "output_type": "stream",
          "text": [
            "Epoch 1/100\n",
            "54/54 [==============================] - 6s 14ms/step - loss: 0.0628\n",
            "Epoch 2/100\n",
            "54/54 [==============================] - 1s 12ms/step - loss: 0.0079\n",
            "Epoch 3/100\n",
            "54/54 [==============================] - 1s 12ms/step - loss: 0.0062\n",
            "Epoch 4/100\n",
            "54/54 [==============================] - 1s 13ms/step - loss: 0.0058\n",
            "Epoch 5/100\n",
            "54/54 [==============================] - 1s 12ms/step - loss: 0.0054\n",
            "Epoch 6/100\n",
            "54/54 [==============================] - 1s 12ms/step - loss: 0.0054\n",
            "Epoch 7/100\n",
            "54/54 [==============================] - 1s 13ms/step - loss: 0.0043\n",
            "Epoch 8/100\n",
            "54/54 [==============================] - 1s 12ms/step - loss: 0.0046\n",
            "Epoch 9/100\n",
            "54/54 [==============================] - 1s 12ms/step - loss: 0.0037\n",
            "Epoch 10/100\n",
            "54/54 [==============================] - 1s 13ms/step - loss: 0.0038\n",
            "Epoch 11/100\n",
            "54/54 [==============================] - 1s 12ms/step - loss: 0.0045\n",
            "Epoch 12/100\n",
            "54/54 [==============================] - 1s 13ms/step - loss: 0.0038\n",
            "Epoch 13/100\n",
            "54/54 [==============================] - 1s 13ms/step - loss: 0.0038\n",
            "Epoch 14/100\n",
            "54/54 [==============================] - 1s 13ms/step - loss: 0.0036\n",
            "Epoch 15/100\n",
            "54/54 [==============================] - 1s 13ms/step - loss: 0.0037\n",
            "Epoch 16/100\n",
            "54/54 [==============================] - 1s 13ms/step - loss: 0.0035\n",
            "Epoch 17/100\n",
            "54/54 [==============================] - 1s 13ms/step - loss: 0.0032\n",
            "Epoch 18/100\n",
            "54/54 [==============================] - 1s 13ms/step - loss: 0.0028\n",
            "Epoch 19/100\n",
            "54/54 [==============================] - 1s 13ms/step - loss: 0.0030\n",
            "Epoch 20/100\n",
            "54/54 [==============================] - 1s 12ms/step - loss: 0.0027\n",
            "Epoch 21/100\n",
            "54/54 [==============================] - 1s 12ms/step - loss: 0.0030\n",
            "Epoch 22/100\n",
            "54/54 [==============================] - 1s 13ms/step - loss: 0.0026\n",
            "Epoch 23/100\n",
            "54/54 [==============================] - 1s 12ms/step - loss: 0.0023\n",
            "Epoch 24/100\n",
            "54/54 [==============================] - 1s 13ms/step - loss: 0.0026\n",
            "Epoch 25/100\n",
            "54/54 [==============================] - 1s 12ms/step - loss: 0.0026\n",
            "Epoch 26/100\n",
            "54/54 [==============================] - 1s 13ms/step - loss: 0.0025\n",
            "Epoch 27/100\n",
            "54/54 [==============================] - 1s 13ms/step - loss: 0.0025\n",
            "Epoch 28/100\n",
            "54/54 [==============================] - 1s 12ms/step - loss: 0.0022\n",
            "Epoch 29/100\n",
            "54/54 [==============================] - 1s 13ms/step - loss: 0.0023\n",
            "Epoch 30/100\n",
            "54/54 [==============================] - 1s 13ms/step - loss: 0.0021\n",
            "Epoch 31/100\n",
            "54/54 [==============================] - 1s 12ms/step - loss: 0.0021\n",
            "Epoch 32/100\n",
            "54/54 [==============================] - 1s 13ms/step - loss: 0.0023\n",
            "Epoch 33/100\n",
            "54/54 [==============================] - 1s 12ms/step - loss: 0.0021\n",
            "Epoch 34/100\n",
            "54/54 [==============================] - 1s 13ms/step - loss: 0.0019\n",
            "Epoch 35/100\n",
            "54/54 [==============================] - 1s 13ms/step - loss: 0.0019\n",
            "Epoch 36/100\n",
            "54/54 [==============================] - 1s 13ms/step - loss: 0.0021\n",
            "Epoch 37/100\n",
            "54/54 [==============================] - 1s 14ms/step - loss: 0.0017\n",
            "Epoch 38/100\n",
            "54/54 [==============================] - 1s 14ms/step - loss: 0.0017\n",
            "Epoch 39/100\n",
            "54/54 [==============================] - 1s 13ms/step - loss: 0.0017\n",
            "Epoch 40/100\n",
            "54/54 [==============================] - 1s 13ms/step - loss: 0.0019\n",
            "Epoch 41/100\n",
            "54/54 [==============================] - 1s 13ms/step - loss: 0.0021\n",
            "Epoch 42/100\n",
            "54/54 [==============================] - 1s 13ms/step - loss: 0.0016\n",
            "Epoch 43/100\n",
            "54/54 [==============================] - 1s 13ms/step - loss: 0.0013\n",
            "Epoch 44/100\n",
            "54/54 [==============================] - 1s 14ms/step - loss: 0.0017\n",
            "Epoch 45/100\n",
            "54/54 [==============================] - 1s 13ms/step - loss: 0.0016\n",
            "Epoch 46/100\n",
            "54/54 [==============================] - 1s 13ms/step - loss: 0.0017\n",
            "Epoch 47/100\n",
            "54/54 [==============================] - 1s 14ms/step - loss: 0.0015\n",
            "Epoch 48/100\n",
            "54/54 [==============================] - 1s 14ms/step - loss: 0.0014\n",
            "Epoch 49/100\n",
            "54/54 [==============================] - 1s 14ms/step - loss: 0.0013\n",
            "Epoch 50/100\n",
            "54/54 [==============================] - 1s 13ms/step - loss: 0.0018\n",
            "Epoch 51/100\n",
            "54/54 [==============================] - 1s 13ms/step - loss: 0.0016\n",
            "Epoch 52/100\n",
            "54/54 [==============================] - 1s 14ms/step - loss: 0.0014\n",
            "Epoch 53/100\n",
            "54/54 [==============================] - 1s 13ms/step - loss: 0.0014\n",
            "Epoch 54/100\n",
            "54/54 [==============================] - 1s 13ms/step - loss: 0.0014\n",
            "Epoch 55/100\n",
            "54/54 [==============================] - 1s 13ms/step - loss: 0.0013\n",
            "Epoch 56/100\n",
            "54/54 [==============================] - 1s 13ms/step - loss: 0.0013\n",
            "Epoch 57/100\n",
            "54/54 [==============================] - 1s 14ms/step - loss: 0.0012\n",
            "Epoch 58/100\n",
            "54/54 [==============================] - 1s 14ms/step - loss: 0.0014\n",
            "Epoch 59/100\n",
            "54/54 [==============================] - 1s 13ms/step - loss: 0.0013\n",
            "Epoch 60/100\n",
            "54/54 [==============================] - 1s 14ms/step - loss: 0.0012\n",
            "Epoch 61/100\n",
            "54/54 [==============================] - 1s 13ms/step - loss: 0.0017\n",
            "Epoch 62/100\n",
            "54/54 [==============================] - 1s 13ms/step - loss: 0.0014\n",
            "Epoch 63/100\n",
            "54/54 [==============================] - 1s 14ms/step - loss: 0.0016\n",
            "Epoch 64/100\n",
            "54/54 [==============================] - 1s 14ms/step - loss: 0.0012\n",
            "Epoch 65/100\n",
            "54/54 [==============================] - 1s 14ms/step - loss: 0.0013\n",
            "Epoch 66/100\n",
            "54/54 [==============================] - 1s 14ms/step - loss: 0.0011\n",
            "Epoch 67/100\n",
            "54/54 [==============================] - 1s 13ms/step - loss: 0.0011\n",
            "Epoch 68/100\n",
            "54/54 [==============================] - 1s 13ms/step - loss: 0.0013\n",
            "Epoch 69/100\n",
            "54/54 [==============================] - 1s 14ms/step - loss: 0.0012\n",
            "Epoch 70/100\n",
            "54/54 [==============================] - 1s 14ms/step - loss: 0.0010\n",
            "Epoch 71/100\n",
            "54/54 [==============================] - 1s 13ms/step - loss: 0.0012\n",
            "Epoch 72/100\n",
            "54/54 [==============================] - 1s 12ms/step - loss: 9.2713e-04\n",
            "Epoch 73/100\n",
            "54/54 [==============================] - 1s 13ms/step - loss: 0.0011\n",
            "Epoch 74/100\n",
            "54/54 [==============================] - 1s 13ms/step - loss: 9.7947e-04\n",
            "Epoch 75/100\n",
            "54/54 [==============================] - 1s 13ms/step - loss: 0.0010\n",
            "Epoch 76/100\n",
            "54/54 [==============================] - 1s 13ms/step - loss: 0.0012\n",
            "Epoch 77/100\n",
            "54/54 [==============================] - 1s 13ms/step - loss: 9.7343e-04\n",
            "Epoch 78/100\n",
            "54/54 [==============================] - 1s 12ms/step - loss: 9.5077e-04\n",
            "Epoch 79/100\n",
            "54/54 [==============================] - 1s 13ms/step - loss: 0.0010\n",
            "Epoch 80/100\n",
            "54/54 [==============================] - 1s 13ms/step - loss: 8.7212e-04\n",
            "Epoch 81/100\n",
            "54/54 [==============================] - 1s 12ms/step - loss: 0.0010\n",
            "Epoch 82/100\n",
            "54/54 [==============================] - 1s 13ms/step - loss: 0.0012\n",
            "Epoch 83/100\n",
            "54/54 [==============================] - 1s 13ms/step - loss: 0.0013\n",
            "Epoch 84/100\n",
            "54/54 [==============================] - 1s 13ms/step - loss: 0.0011\n",
            "Epoch 85/100\n",
            "54/54 [==============================] - 1s 13ms/step - loss: 8.3876e-04\n",
            "Epoch 86/100\n",
            "54/54 [==============================] - 1s 13ms/step - loss: 0.0010\n",
            "Epoch 87/100\n",
            "54/54 [==============================] - 1s 12ms/step - loss: 9.4794e-04\n",
            "Epoch 88/100\n",
            "54/54 [==============================] - 1s 13ms/step - loss: 0.0010\n",
            "Epoch 89/100\n",
            "54/54 [==============================] - 1s 13ms/step - loss: 9.1609e-04\n",
            "Epoch 90/100\n",
            "54/54 [==============================] - 1s 13ms/step - loss: 9.2232e-04\n",
            "Epoch 91/100\n",
            "54/54 [==============================] - 1s 13ms/step - loss: 8.5940e-04\n",
            "Epoch 92/100\n",
            "54/54 [==============================] - 1s 12ms/step - loss: 9.6658e-04\n",
            "Epoch 93/100\n",
            "54/54 [==============================] - 1s 13ms/step - loss: 9.8706e-04\n",
            "Epoch 94/100\n",
            "54/54 [==============================] - 1s 13ms/step - loss: 7.8975e-04\n",
            "Epoch 95/100\n",
            "54/54 [==============================] - 1s 13ms/step - loss: 0.0010\n",
            "Epoch 96/100\n",
            "54/54 [==============================] - 1s 12ms/step - loss: 0.0010\n",
            "Epoch 97/100\n",
            "54/54 [==============================] - 1s 13ms/step - loss: 0.0010\n",
            "Epoch 98/100\n",
            "54/54 [==============================] - 1s 13ms/step - loss: 8.9774e-04\n",
            "Epoch 99/100\n",
            "54/54 [==============================] - 1s 13ms/step - loss: 9.4198e-04\n",
            "Epoch 100/100\n",
            "54/54 [==============================] - 1s 12ms/step - loss: 7.8237e-04\n"
          ],
          "name": "stdout"
        },
        {
          "output_type": "execute_result",
          "data": {
            "text/plain": [
              "<keras.callbacks.History at 0x7feb577e9590>"
            ]
          },
          "metadata": {
            "tags": []
          },
          "execution_count": 38
        }
      ]
    },
    {
      "cell_type": "code",
      "metadata": {
        "colab": {
          "base_uri": "https://localhost:8080/",
          "height": 329
        },
        "id": "PEladYJGSiNN",
        "outputId": "35c1e438-fd13-487b-b95f-72cd7a077d58"
      },
      "source": [
        "# Testing on training set\n",
        "dataset_test = dataset_train # yf.download(tickers='AAPL', period='1y', interval='1d') #pd.read_csv('tatatest.csv')\n",
        "real_stock_price = dataset_test.iloc[:, 1:2].values\n",
        "\n",
        "dataset_total = pd.concat((dataset_train['Open'], dataset_test['Open']), axis = 0)\n",
        "inputs = dataset_total[len(dataset_total) - len(dataset_test) - lookback_days:].values\n",
        "inputs = inputs.reshape(-1,1)\n",
        "inputs = sc.transform(inputs)\n",
        "X_test = []\n",
        "for i in range(lookback_days, len(inputs)):\n",
        "    X_test.append(inputs[i-lookback_days:i, 0])\n",
        "# X_test.append(inputs[len(inputs) - lookback_days:len(inputs), 0])\n",
        "# X_test.append(inputs[len(inputs) - lookback_days:len(inputs), 0])\n",
        "\n",
        "X_test = np.array(X_test)\n",
        "X_test = np.reshape(X_test, (X_test.shape[0], X_test.shape[1], 1))\n",
        "\n",
        "print(X_test.shape)\n",
        "\n",
        "predicted_stock_price = regressor.predict(X_test)\n",
        "predicted_stock_price = sc.inverse_transform(predicted_stock_price)\n",
        "\n",
        "print(str(len(real_stock_price)) + '  ' + str(len(predicted_stock_price)))\n",
        "# print(predicted_stock_price)\n",
        "\n",
        "plt.plot(real_stock_price, color = 'black', label = STOCK+' Stock Price')\n",
        "plt.plot(predicted_stock_price, color = 'green', label = 'Predicted'+STOCK+' Stock Price')\n",
        "plt.title(STOCK+' Stock Price Prediction')\n",
        "plt.xlabel('Time')\n",
        "plt.ylabel(STOCK+' Stock Price')\n",
        "plt.legend()\n",
        "plt.show()\n"
      ],
      "execution_count": null,
      "outputs": [
        {
          "output_type": "stream",
          "text": [
            "(1766, 60, 1)\n",
            "1766  1766\n"
          ],
          "name": "stdout"
        },
        {
          "output_type": "display_data",
          "data": {
            "image/png": "[encoded data removed]",
            "text/plain": [
              "<Figure size 432x288 with 1 Axes>"
            ]
          },
          "metadata": {
            "tags": [],
            "needs_background": "light"
          }
        }
      ]
    },
    {
      "cell_type": "code",
      "metadata": {
        "id": "KsRCmq1InNrf",
        "colab": {
          "base_uri": "https://localhost:8080/"
        },
        "outputId": "f131ccf8-6a04-4153-d46e-29872dd9f61e"
      },
      "source": [
        "# Predicting price on a particular day beyond given bounds\n",
        "days_ahead = 50\n",
        "c = 0\n",
        "nDatapoints = len(dataset_test)\n",
        "\n",
        "print(X_train.shape[1])\n",
        "X_test = []\n",
        "X_test.append(dataset_test.iloc[nDatapoints - lookback_days + c: nDatapoints + c, 1:2].values) # Get the last few datapoints needed for future predictions\n",
        "X_test = np.array(X_test)\n",
        "\n",
        "last_known_price = predicted_stock_price[-1][0]\n",
        "predictions = []\n",
        "predicted_price_change = []\n",
        "\n",
        "while c < days_ahead: \n",
        "  if c != 0:\n",
        "    X_test = np.expand_dims(np.expand_dims(np.append(X_test[0], predicted_price_day), axis=1), axis=0)\n",
        "    \n",
        "  # print(X_test)\n",
        "  \n",
        "  X_test = X_test[-lookback_days:]\n",
        "  temp = X_test.copy()\n",
        "  temp[0] = sc.transform(temp[0])\n",
        "  predicted_price_day = regressor.predict(temp)\n",
        "  predicted_price_day = sc.inverse_transform(predicted_price_day)\n",
        "  # print('Pred: ' + str(predicted_price_day))\n",
        "  \n",
        "  predictions.append(predicted_price_day[0][0])\n",
        "  predicted_price_change.append((predicted_price_day[0][0] - last_known_price)/(last_known_price) * 100)\n",
        "  c += 1\n",
        "\n",
        "print('Predicted Price in the coming ' + str(days_ahead) + ' days = ' + str(predictions))\n",
        "print('Predicted Price Change in the coming ' + str(days_ahead) + ' days = ' + str(predicted_price_change))"
      ],
      "execution_count": null,
      "outputs": [
        {
          "output_type": "stream",
          "text": [
            "60\n",
            "Predicted Price in the coming 50 days = [2538.7659, 2537.5688, 2536.316, 2535.0835, 2533.9055, 2532.7817, 2531.705, 2530.6665, 2529.6592, 2528.6768, 2527.715, 2526.7712, 2525.8425, 2524.928, 2524.0266, 2523.1375, 2522.2607, 2521.3967, 2520.5457, 2519.709, 2518.8867, 2518.0806, 2517.2913, 2516.52, 2515.7676, 2515.035, 2514.3228, 2513.6318, 2512.9624, 2512.315, 2511.6897, 2511.0864, 2510.505, 2509.945, 2509.407, 2508.8896, 2508.393, 2507.9165, 2507.4595, 2507.0212, 2506.6013, 2506.1995, 2505.8145, 2505.4463, 2505.0938, 2504.7566, 2504.4343, 2504.126, 2503.8313, 2503.5498]\n",
            "Predicted Price Change in the coming 50 days = [0.03984744835179299, -0.007321078737732023, -0.056692661019042134, -0.10525614488869905, -0.15167428646236658, -0.19595669582486153, -0.2383823972195387, -0.2793073421344161, -0.3190008457750082, -0.35771310795098543, -0.39560762234032154, -0.4327998496592045, -0.46939561143517494, -0.5054334178566933, -0.5409517325460911, -0.5759890191257, -0.6105356384068727, -0.6445820443332195, -0.6781185045838356, -0.711087416857481, -0.743488734588027, -0.7752551231533289, -0.8063576184213161, -0.8367483504116535, -0.8663982152938843, -0.8952688425779343, -0.9233313612639904, -0.9505569003522396, -0.9769358672201633, -1.0024490766227245, -1.0270867496728897, -1.0508585721254349, -1.073774229735136, -1.0958337225019932, -1.1170369572937489, -1.1374223977327347, -1.1569902300834656, -1.1757691390812397, -1.1937784031033516, -1.2110468931496143, -1.2275938875973225, -1.2434289790689945, -1.2586002238094807, -1.2731077149510384, -1.2869995087385178, -1.3002851977944374, -1.3129839673638344, -1.3251344673335552, -1.3367462903261185, -1.3478385284543037]\n"
          ],
          "name": "stdout"
        }
      ]
    },
    {
      "cell_type": "code",
      "metadata": {
        "colab": {
          "base_uri": "https://localhost:8080/"
        },
        "id": "NloyIfODfJ6q",
        "outputId": "80fe914c-8248-44b1-a057-0096b88755ba"
      },
      "source": [
        "# Plot predicted price \n",
        "plt.plot(real_stock_price, color = 'black', label = (STOCK + 'Stock Price'))\n",
        "plt.plot(np.append(predicted_stock_price, np.expand_dims(predictions, axis = 1)), color = 'green', label = 'Predicted ' + STOCK + ' Stock Price')\n",
        "plt.title(STOCK+' Stock Price Prediction')\n",
        "plt.xlabel('Time')\n",
        "plt.ylabel(STOCK+' Stock Price')\n",
        "plt.legend()\n",
        "plt.show()\n"
      ],
      "execution_count": null,
      "outputs": [
        {
          "output_type": "display_data",
          "data": {
            "image/png": "[encoded data removed]",
            "text/plain": [
              "<Figure size 432x288 with 1 Axes>"
            ]
          },
          "metadata": {
            "tags": [],
            "needs_background": "light"
          }
        }
      ]
    },
    {
      "cell_type": "code",
      "metadata": {
        "colab": {
          "base_uri": "https://localhost:8080/",
          "height": 295
        },
        "id": "O1rVmqi2tQ0R",
        "outputId": "b43fa9aa-47ae-454f-ac64-d1ce23848cb2"
      },
      "source": [
        "# Plot predicted price change in upcoming days\n",
        "plt.plot(predicted_price_change, color = 'orange', label = 'Predicted Price Change (%)')\n",
        "plt.title('Price Change Prediction')\n",
        "plt.xlabel('Time')\n",
        "plt.ylabel('Price Change')\n",
        "plt.legend()\n",
        "plt.show()"
      ],
      "execution_count": null,
      "outputs": [
        {
          "output_type": "display_data",
          "data": {
            "image/png": "[encoded data removed]",
            "text/plain": [
              "<Figure size 432x288 with 1 Axes>"
            ]
          },
          "metadata": {
            "tags": [],
            "needs_background": "light"
          }
        }
      ]
    },
    {
      "cell_type": "code",
      "metadata": {
        "id": "LypJ0EaUulN-"
      },
      "source": [
        ""
      ],
      "execution_count": null,
      "outputs": []
    }
  ]
}